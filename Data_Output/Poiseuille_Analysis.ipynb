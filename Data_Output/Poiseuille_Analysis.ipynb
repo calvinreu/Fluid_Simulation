{
 "cells": [
  {
   "cell_type": "code",
   "execution_count": 1,
   "id": "f1624469",
   "metadata": {},
   "outputs": [],
   "source": [
    "import numpy as np\n",
    "from matplotlib import pyplot as plt\n",
    "import json\n",
    "%matplotlib qt\n",
    "plt.style.use('dark_background')"
   ]
  },
  {
   "cell_type": "code",
   "execution_count": 19,
   "id": "dbe0023f",
   "metadata": {},
   "outputs": [
    {
     "data": {
      "text/plain": [
       "<matplotlib.legend.Legend at 0x7fb01e0b3880>"
      ]
     },
     "execution_count": 19,
     "metadata": {},
     "output_type": "execute_result"
    }
   ],
   "source": [
    "with open('../config.json', 'r') as fp:\n",
    "    config = json.load(fp)\n",
    "\n",
    "d = np.loadtxt('V_mag_file.csv', delimiter=',')\n",
    "d = d.reshape((config['grid_size_x'], config['grid_size_y']))\n",
    "x_slice = d[int(0), :]\n",
    "\n",
    "\n",
    "\n",
    "mu = config['viscosity']\n",
    "a = config['force']\n",
    "L = config['grid_size_y'] * config['dy']\n",
    "def p(y):\n",
    "    return (a/(2.*mu)) * y * (L-y)\n",
    "\n",
    "da_linspace = np.linspace(0, L, len(x_slice))\n",
    "\n",
    "current_analytic = list(map(p, da_linspace))\n",
    "\n",
    "# mu *= 10.\n",
    "# def p(y):\n",
    "#     return (a/(2.*mu)) * y * (L-y)\n",
    "\n",
    "# higher_vis_analytic = list(map(p, np.linspace(0, L, len(x_slice))))\n",
    "\n",
    "plt.plot(da_linspace, x_slice, 'o', label='Numerical_y=256')\n",
    "# plt.plot(np.linspace(0, L, len(x_slice_64)), x_slice_64, 'o', label='Numerical_y=64')\n",
    "plt.plot(da_linspace, current_analytic, 'r', label='Analytical')\n",
    "# plt.plot(np.linspace(0, L, len(x_slice)), higher_vis_analytic, label='Analytical')\n",
    "plt.legend()"
   ]
  },
  {
   "cell_type": "code",
   "execution_count": 22,
   "id": "1a6da083",
   "metadata": {},
   "outputs": [
    {
     "name": "stderr",
     "output_type": "stream",
     "text": [
      "<ipython-input-22-dc517a32c8f0>:1: RuntimeWarning: invalid value encountered in true_divide\n",
      "  plt.plot(da_linspace,((p(da_linspace)-x_slice)/((p(da_linspace)+x_slice)/2.)) ,'o')\n"
     ]
    },
    {
     "data": {
      "text/plain": [
       "[<matplotlib.lines.Line2D at 0x7fb01d500370>]"
      ]
     },
     "execution_count": 22,
     "metadata": {},
     "output_type": "execute_result"
    }
   ],
   "source": [
    "plt.plot(da_linspace,((p(da_linspace)-x_slice)/((p(da_linspace)+x_slice)/2.)) ,'o')"
   ]
  },
  {
   "cell_type": "code",
   "execution_count": null,
   "id": "f127a889",
   "metadata": {},
   "outputs": [],
   "source": []
  }
 ],
 "metadata": {
  "kernelspec": {
   "display_name": "Python 3",
   "language": "python",
   "name": "python3"
  },
  "language_info": {
   "codemirror_mode": {
    "name": "ipython",
    "version": 3
   },
   "file_extension": ".py",
   "mimetype": "text/x-python",
   "name": "python",
   "nbconvert_exporter": "python",
   "pygments_lexer": "ipython3",
   "version": "3.9.5"
  }
 },
 "nbformat": 4,
 "nbformat_minor": 5
}
