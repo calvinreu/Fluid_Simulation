{
 "cells": [
  {
   "cell_type": "code",
   "execution_count": 1,
   "id": "7bfb0462",
   "metadata": {},
   "outputs": [],
   "source": [
    "import numpy as np\n",
    "import pandas as pd\n",
    "import json\n",
    "from matplotlib import pyplot as plt\n",
    "plt.style.use('dark_background')\n",
    "%matplotlib qt"
   ]
  },
  {
   "cell_type": "code",
   "execution_count": 5,
   "id": "bcac59fe",
   "metadata": {},
   "outputs": [],
   "source": [
    "grid_size_x = 32\n",
    "grid_size_y = 64\n",
    "rho = np.zeros((grid_size_x,grid_size_y))\n",
    "u = np.zeros((grid_size_x,grid_size_y))\n",
    "v = np.zeros((grid_size_x,grid_size_y))\n",
    "boundary = np.zeros((grid_size_x,grid_size_y),dtype='int')\n",
    "indices = np.zeros((grid_size_x,grid_size_y,2),dtype='int')\n",
    "for i in range(grid_size_x):\n",
    "    for j in range(grid_size_y):\n",
    "        indices[i,j] = [i,j]\n",
    "        \n",
    "        \n",
    "boundary[:,0] = 1\n",
    "boundary[:,-1] = 1\n",
    "rho[:,:] = 1.\n",
    "\n",
    "# u[:,32] = -0.01\n",
    "# v[:,32] = 0.01\n",
    "# rho[128,128] = 2.\n",
    "# rho[16,1] = 2.\n",
    "# rho[32+16,1] = 2.\n",
    "# centerx = 32\n",
    "# centery = 32\n",
    "# u[centerx-4:centerx+7,centery-4:centery+7] = 0.\n",
    "\n",
    "output = pd.DataFrame(columns=['xi','yi','rho','u','v','boundary'])\n",
    "\n",
    "output['xi'] = indices.reshape((-1,2))[:,0]\n",
    "output['yi'] = indices.reshape((-1,2))[:,1]\n",
    "output['rho'] = rho.reshape(-1)\n",
    "output['u'] = u.reshape(-1)\n",
    "output['v'] = v.reshape(-1)\n",
    "output['boundary'] = boundary.reshape(-1)\n",
    "\n",
    "output.to_csv('grid_variables.csv',index=False)\n"
   ]
  },
  {
   "cell_type": "code",
   "execution_count": 6,
   "id": "911ce862",
   "metadata": {},
   "outputs": [],
   "source": [
    "config = {}\n",
    "config['grid_size_x'] = grid_size_x\n",
    "config['grid_size_y'] = grid_size_y\n",
    "config['frame_rate'] = 0\n",
    "config['dt'] = 0.1\n",
    "config['dx'] = 1./grid_size_x\n",
    "config['dy'] = 1./grid_size_y\n",
    "config['viscosity'] = 0.000181\n",
    "config['c'] = 1.0\n",
    "config['force'] = 1e-4\n",
    "config['run_graphics'] = 1\n",
    "config[\"tolerance\"] = 0.01"
   ]
  },
  {
   "cell_type": "code",
   "execution_count": 7,
   "id": "09a34772",
   "metadata": {},
   "outputs": [],
   "source": [
    "with open('config.json','w') as fp:\n",
    "    json.dump(config, fp, indent='\\t')"
   ]
  },
  {
   "cell_type": "code",
   "execution_count": null,
   "id": "a2554be7",
   "metadata": {},
   "outputs": [],
   "source": []
  }
 ],
 "metadata": {
  "kernelspec": {
   "display_name": "Python 3",
   "language": "python",
   "name": "python3"
  },
  "language_info": {
   "codemirror_mode": {
    "name": "ipython",
    "version": 3
   },
   "file_extension": ".py",
   "mimetype": "text/x-python",
   "name": "python",
   "nbconvert_exporter": "python",
   "pygments_lexer": "ipython3",
   "version": "3.9.5"
  }
 },
 "nbformat": 4,
 "nbformat_minor": 5
}
